{
 "cells": [
  {
   "cell_type": "markdown",
   "metadata": {},
   "source": [
    "### 1. Acquiring Data"
   ]
  },
  {
   "cell_type": "code",
   "execution_count": 1,
   "metadata": {},
   "outputs": [],
   "source": [
    "# Steps to analyzing data\n",
    "# 1. Get the data\n",
    "# 2. Review the data\n",
    "# 3. Ask questions based on what you found (get as creative as you need to)\n",
    "# 4. Clean your data"
   ]
  },
  {
   "cell_type": "code",
   "execution_count": 3,
   "metadata": {},
   "outputs": [],
   "source": [
    "import unicodecsv as csv\n",
    "from statistics import mean"
   ]
  },
  {
   "cell_type": "code",
   "execution_count": 3,
   "metadata": {},
   "outputs": [],
   "source": [
    "# long way\n",
    "# enrollment_data = []\n",
    "# file = open('enrollments.csv', 'rb')\n",
    "# data = csv.DictReader(file)\n",
    "# for i in data:\n",
    "#     enrollment_data.append(i)\n",
    "# file.close()"
   ]
  },
  {
   "cell_type": "code",
   "execution_count": 4,
   "metadata": {},
   "outputs": [],
   "source": [
    "# shorter way\n",
    "# with open('enrollments.csv', 'rb') as file:\n",
    "#     data = csv.DictReader(file)\n",
    "#     enrollment_data = list(data)"
   ]
  },
  {
   "cell_type": "code",
   "execution_count": 4,
   "metadata": {},
   "outputs": [],
   "source": [
    "# best way\n",
    "def read_from_csv(filename):\n",
    "    with open(filename, 'rb') as file:\n",
    "        data = csv.DictReader(file)\n",
    "        return list(data)"
   ]
  },
  {
   "cell_type": "code",
   "execution_count": 5,
   "metadata": {},
   "outputs": [],
   "source": [
    "enrollment_data = read_from_csv('enrollments.csv')\n",
    "engagement_data = read_from_csv('engagements.csv')\n",
    "submission_data = read_from_csv('submissions.csv')"
   ]
  },
  {
   "cell_type": "markdown",
   "metadata": {},
   "source": [
    "### 2. Cleaning Data"
   ]
  },
  {
   "cell_type": "code",
   "execution_count": 6,
   "metadata": {},
   "outputs": [],
   "source": [
    "from datetime import datetime as dt\n",
    "\n",
    "def convert_to_date(date_string):\n",
    "    if date_string == '':\n",
    "        return None\n",
    "    else:\n",
    "        return dt.strptime(date_string, '%Y-%m-%d')\n",
    "    \n",
    "def convert_to_int(int_string):\n",
    "    if int_string == '':\n",
    "        return None\n",
    "    else:\n",
    "        return int(int_string)\n",
    "    \n",
    "def convert_to_float(float_string):\n",
    "    if float_string == '':\n",
    "        return None\n",
    "    else:\n",
    "        return float(float_string)\n",
    "    \n",
    "def convert_to_bool(bool_string):\n",
    "    if bool_string == '':\n",
    "        return None\n",
    "    elif bool_string == 'TRUE':\n",
    "        return True\n",
    "    elif bool_string == 'FALSE':\n",
    "        return False"
   ]
  },
  {
   "cell_type": "markdown",
   "metadata": {},
   "source": [
    "##### Fix data types"
   ]
  },
  {
   "cell_type": "code",
   "execution_count": 7,
   "metadata": {},
   "outputs": [],
   "source": [
    "for i in enrollment_data:\n",
    "    i['join_date'] = convert_to_date(i['join_date'])\n",
    "    i['cancel_date'] = convert_to_date(i['cancel_date'])\n",
    "    i['days_to_cancel'] = convert_to_int(i['days_to_cancel'])\n",
    "    i['is_enrolled'] = convert_to_bool(i['is_enrolled'])\n",
    "    i['is_canceled'] = convert_to_bool(i['is_canceled'])"
   ]
  },
  {
   "cell_type": "code",
   "execution_count": 8,
   "metadata": {
    "scrolled": true
   },
   "outputs": [
    {
     "data": {
      "text/plain": [
       "{'account_key': '448',\n",
       " 'status': 'canceled',\n",
       " 'join_date': datetime.datetime(2017, 11, 10, 0, 0),\n",
       " 'cancel_date': datetime.datetime(2018, 1, 14, 0, 0),\n",
       " 'days_to_cancel': 65,\n",
       " 'is_enrolled': True,\n",
       " 'is_canceled': True}"
      ]
     },
     "execution_count": 8,
     "metadata": {},
     "output_type": "execute_result"
    }
   ],
   "source": [
    "enrollment_data[0]"
   ]
  },
  {
   "cell_type": "code",
   "execution_count": 9,
   "metadata": {},
   "outputs": [],
   "source": [
    "for i in engagement_data:\n",
    "    i['utc_date'] = convert_to_date(i['utc_date'])\n",
    "    i['num_courses_visited'] = convert_to_int(i['num_courses_visited'])\n",
    "    i['total_minutes_visited'] = convert_to_float(i['total_minutes_visited'])\n",
    "    i['lessons_completed'] = convert_to_float(i['lessons_completed'])\n",
    "    i['projects_completed'] = convert_to_float(i['projects_completed'])"
   ]
  },
  {
   "cell_type": "code",
   "execution_count": 10,
   "metadata": {},
   "outputs": [
    {
     "data": {
      "text/plain": [
       "{'acct': '0',\n",
       " 'utc_date': datetime.datetime(2018, 1, 9, 0, 0),\n",
       " 'num_courses_visited': 1,\n",
       " 'total_minutes_visited': 11.6793745,\n",
       " 'lessons_completed': 0.0,\n",
       " 'projects_completed': 0.0}"
      ]
     },
     "execution_count": 10,
     "metadata": {},
     "output_type": "execute_result"
    }
   ],
   "source": [
    "engagement_data[0]"
   ]
  },
  {
   "cell_type": "code",
   "execution_count": 11,
   "metadata": {},
   "outputs": [],
   "source": [
    "for i in submission_data:\n",
    "    i['creation_date'] = convert_to_date(i['creation_date'])\n",
    "    i['completion_date'] = convert_to_date(i['completion_date'])"
   ]
  },
  {
   "cell_type": "code",
   "execution_count": 12,
   "metadata": {
    "scrolled": true
   },
   "outputs": [
    {
     "data": {
      "text/plain": [
       "{'creation_date': datetime.datetime(2018, 1, 14, 0, 0),\n",
       " 'completion_date': datetime.datetime(2018, 1, 16, 0, 0),\n",
       " 'assigned_rating': 'UNGRADED',\n",
       " 'account_key': '256',\n",
       " 'lesson_key': '3176718735',\n",
       " 'processing_state': 'EVALUATED'}"
      ]
     },
     "execution_count": 12,
     "metadata": {},
     "output_type": "execute_result"
    }
   ],
   "source": [
    "submission_data[0]"
   ]
  },
  {
   "cell_type": "code",
   "execution_count": 13,
   "metadata": {},
   "outputs": [],
   "source": [
    "for i in engagement_data:\n",
    "    i['account_key'] = i['acct']\n",
    "    del i['acct']"
   ]
  },
  {
   "cell_type": "code",
   "execution_count": 14,
   "metadata": {},
   "outputs": [],
   "source": [
    "for i in enrollment_data:\n",
    "    i['is_student'] = i['is_enrolled']\n",
    "    del i['is_enrolled']"
   ]
  },
  {
   "cell_type": "code",
   "execution_count": 15,
   "metadata": {},
   "outputs": [
    {
     "data": {
      "text/plain": [
       "{'utc_date': datetime.datetime(2018, 1, 9, 0, 0),\n",
       " 'num_courses_visited': 1,\n",
       " 'total_minutes_visited': 11.6793745,\n",
       " 'lessons_completed': 0.0,\n",
       " 'projects_completed': 0.0,\n",
       " 'account_key': '0'}"
      ]
     },
     "execution_count": 15,
     "metadata": {},
     "output_type": "execute_result"
    }
   ],
   "source": [
    "engagement_data[0]"
   ]
  },
  {
   "cell_type": "code",
   "execution_count": 16,
   "metadata": {
    "scrolled": false
   },
   "outputs": [
    {
     "name": "stdout",
     "output_type": "stream",
     "text": [
      "Enrollment records: 1640\n",
      "Engagement records: 136240\n",
      "Submissions records: 3642\n",
      "\n",
      "Unique enrollment records: 1302\n",
      "Unique engagement records: 1237\n",
      "Unique submissions records: 743\n"
     ]
    }
   ],
   "source": [
    "print(f\"Enrollment records: {len(enrollment_data)}\")\n",
    "print(f\"Engagement records: {len(engagement_data)}\")\n",
    "print(f\"Submissions records: {len(submission_data)}\")\n",
    "\n",
    "def get_unique_records(data, column_name):\n",
    "    unique_data = set()\n",
    "    for i in data:\n",
    "        unique_data.add(i[column_name])\n",
    "    return unique_data\n",
    "\n",
    "\n",
    "print()\n",
    "\n",
    "unique_enrollment_data = get_unique_records(enrollment_data, 'account_key')\n",
    "unique_engagement_data = get_unique_records(engagement_data, 'account_key')\n",
    "unique_submission_data = get_unique_records(submission_data, 'account_key')\n",
    "\n",
    "print(f\"Unique enrollment records: {len(unique_enrollment_data)}\")\n",
    "print(f\"Unique engagement records: {len(unique_engagement_data)}\")\n",
    "print(f\"Unique submissions records: {len(unique_submission_data)}\")"
   ]
  },
  {
   "cell_type": "code",
   "execution_count": 17,
   "metadata": {
    "scrolled": true
   },
   "outputs": [
    {
     "name": "stdout",
     "output_type": "stream",
     "text": [
      "{'account_key': '1304', 'status': 'canceled', 'join_date': datetime.datetime(2018, 1, 10, 0, 0), 'cancel_date': datetime.datetime(2018, 3, 10, 0, 0), 'days_to_cancel': 59, 'is_canceled': True, 'is_student': True}\n",
      "\n",
      "{'account_key': '1304', 'status': 'canceled', 'join_date': datetime.datetime(2018, 3, 10, 0, 0), 'cancel_date': datetime.datetime(2018, 6, 17, 0, 0), 'days_to_cancel': 99, 'is_canceled': True, 'is_student': True}\n",
      "\n",
      "{'account_key': '1101', 'status': 'current', 'join_date': datetime.datetime(2018, 2, 25, 0, 0), 'cancel_date': None, 'days_to_cancel': None, 'is_canceled': False, 'is_student': True}\n",
      "\n",
      "3\n"
     ]
    }
   ],
   "source": [
    "outliers = 0\n",
    "for i in enrollment_data:\n",
    "    if i['account_key'] not in unique_engagement_data and i['join_date'] != i['cancel_date']:\n",
    "        outliers +=1\n",
    "        print(i, end='\\n\\n')\n",
    "print(outliers)"
   ]
  },
  {
   "cell_type": "code",
   "execution_count": 18,
   "metadata": {},
   "outputs": [
    {
     "name": "stdout",
     "output_type": "stream",
     "text": [
      "6 possible test accounts were found.\n"
     ]
    }
   ],
   "source": [
    "# Check for possible test accounts.\n",
    "# is_student shows True for questionable looking accounts, but shows False for legit accounts\n",
    "test_accounts = set()\n",
    "for i in enrollment_data:\n",
    "    if i['is_student']:\n",
    "        test_accounts.add(i['account_key'])\n",
    "print(f\"{len(test_accounts)} possible test accounts were found.\")"
   ]
  },
  {
   "cell_type": "code",
   "execution_count": 19,
   "metadata": {},
   "outputs": [],
   "source": [
    "def remove_test_accounts(data):\n",
    "    new_records = []\n",
    "    for i in data:\n",
    "        if i['account_key'] in test_accounts:\n",
    "            pass\n",
    "        else:\n",
    "            new_records.append(i)\n",
    "    return new_records"
   ]
  },
  {
   "cell_type": "code",
   "execution_count": 20,
   "metadata": {},
   "outputs": [
    {
     "name": "stdout",
     "output_type": "stream",
     "text": [
      "True enrollment records: 1622\n",
      "True engagement records: 135656\n",
      "True submissions records: 3634\n"
     ]
    }
   ],
   "source": [
    "true_enrollments = remove_test_accounts(enrollment_data)\n",
    "true_engagements = remove_test_accounts(engagement_data)\n",
    "true_submissions = remove_test_accounts(submission_data)\n",
    "\n",
    "print(f\"True enrollment records: {len(true_enrollments)}\")\n",
    "print(f\"True engagement records: {len(true_engagements)}\")\n",
    "print(f\"True submissions records: {len(true_submissions)}\")"
   ]
  },
  {
   "cell_type": "code",
   "execution_count": 21,
   "metadata": {},
   "outputs": [
    {
     "name": "stdout",
     "output_type": "stream",
     "text": [
      "It took students about 43.9 days to cancel their subscription.\n"
     ]
    }
   ],
   "source": [
    "# What was the average number of days to cancel?\n",
    "days_to_cancel = mean([i['days_to_cancel'] for i in enrollment_data if i['days_to_cancel'] is not None])\n",
    "print(f\"It took students about {round(days_to_cancel, 1)} days to cancel their subscription.\")"
   ]
  },
  {
   "cell_type": "markdown",
   "metadata": {},
   "source": [
    "#### Find all quality accounts where:\n",
    "##### 1. 'is_canceled' is False\n",
    "##### 2. 'days_to_cancel' is greater than 7\n",
    "##### 3. retrieve one record with most recent 'join_date', but have account keys that show up multiple times"
   ]
  },
  {
   "cell_type": "markdown",
   "metadata": {},
   "source": [
    "### 4. Finalizing/Summarizing Data"
   ]
  },
  {
   "cell_type": "code",
   "execution_count": null,
   "metadata": {},
   "outputs": [],
   "source": []
  },
  {
   "cell_type": "markdown",
   "metadata": {},
   "source": [
    "### 3. Answering Questions w/ Data"
   ]
  }
 ],
 "metadata": {
  "kernelspec": {
   "display_name": "Python 3",
   "language": "python",
   "name": "python3"
  },
  "language_info": {
   "codemirror_mode": {
    "name": "ipython",
    "version": 3
   },
   "file_extension": ".py",
   "mimetype": "text/x-python",
   "name": "python",
   "nbconvert_exporter": "python",
   "pygments_lexer": "ipython3",
   "version": "3.8.3"
  }
 },
 "nbformat": 4,
 "nbformat_minor": 2
}
