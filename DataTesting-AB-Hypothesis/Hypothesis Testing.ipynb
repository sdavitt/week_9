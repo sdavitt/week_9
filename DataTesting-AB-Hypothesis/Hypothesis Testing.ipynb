{
 "cells": [
  {
   "cell_type": "markdown",
   "metadata": {},
   "source": [
    "### Hypothesis Testing is almost always one of the best ways to help business make well-informed decisions"
   ]
  },
  {
   "cell_type": "markdown",
   "metadata": {},
   "source": [
    "### Question: Which hypothesis can be statistically proven?\n",
    "\n",
    "### H<sub>0</sub> - Null hypothesis\n",
    "1. what is known to be true before collecting data\n",
    "2. has two groups being equal or \"zero\" effect\n",
    "3. competes with and doesn't overlap hypotheses\n",
    "4. works based on some type of equality: $=$, $\\leq$, or $\\geq$\n",
    "\n",
    "### H<sub>1</sub> - Alternative hypothesis\n",
    "1. what we would like to prove to be true\n",
    "2. works based on inequality: $\\neq$, $<$, or $>$"
   ]
  },
  {
   "cell_type": "markdown",
   "metadata": {},
   "source": [
    "### Judicial System Example\n",
    "<p>Innocent until proven guilty = H<sub>0</sub> = true before we collect data</p>\n",
    "<p>Individual is guilty = H<sub>1</sub> = competing hypothesis</p>\n",
    "\n",
    "After evidence is collected, either H<sub>0</sub> or H<sub>1</sub> will be supported by the data."
   ]
  },
  {
   "cell_type": "markdown",
   "metadata": {},
   "source": [
    "#### 4 Possible Outcomes. Truth vs. Decision\n",
    "\n",
    "NO ERROR\n",
    "- Truth: person is guilty\n",
    "- Decision: jury decides guilty\n",
    "\n",
    "NO ERROR\n",
    "- Truth: person is innocent\n",
    "- Decision: jury decides innocent\n",
    "\n",
    "TYPE II ERROR = choosing H<sub>0</sub> when H<sub>1</sub> is true\n",
    "- Truth: person is guilty\n",
    "- Decision: jury finds innocent\n",
    "\n",
    "\n",
    "TYPE I ERROR - Worst possible outcome = choosing H<sub>1</sub> when H<sub>0</sub> is true = False Positive\n",
    "- Truth: person is innocent\n",
    "- innocent: jury finds guilty"
   ]
  }
 ],
 "metadata": {
  "kernelspec": {
   "display_name": "Python 3",
   "language": "python",
   "name": "python3"
  },
  "language_info": {
   "codemirror_mode": {
    "name": "ipython",
    "version": 3
   },
   "file_extension": ".py",
   "mimetype": "text/x-python",
   "name": "python",
   "nbconvert_exporter": "python",
   "pygments_lexer": "ipython3",
   "version": "3.8.5"
  }
 },
 "nbformat": 4,
 "nbformat_minor": 4
}
