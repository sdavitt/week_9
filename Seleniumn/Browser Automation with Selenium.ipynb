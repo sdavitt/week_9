{
 "cells": [
  {
   "cell_type": "code",
   "execution_count": 31,
   "metadata": {},
   "outputs": [],
   "source": [
    "from selenium import webdriver\n",
    "from selenium.webdriver.common.keys import Keys\n",
    "from time import sleep"
   ]
  },
  {
   "cell_type": "code",
   "execution_count": 32,
   "metadata": {},
   "outputs": [],
   "source": []
  },
  {
   "cell_type": "code",
   "execution_count": 41,
   "metadata": {},
   "outputs": [],
   "source": [
    "driver = webdriver.Chrome('./chromedriver')\n",
    "driver.get('https://www.nbastuffer.com')\n",
    "\n",
    "sleep(5)\n",
    "\n",
    "link_to_click = driver.find_elements_by_class_name('x-recent-post6')[4]\n",
    "link_to_click.click()\n",
    "# print(link_to_click)\n",
    "\n",
    "sleep(5)\n",
    "\n",
    "search_field = driver.find_element_by_tag_name('input')\n",
    "search_field.send_keys('Rajon Rondo')\n",
    "\n",
    "sleep(5)\n",
    "\n",
    "# driver.close()"
   ]
  },
  {
   "cell_type": "code",
   "execution_count": null,
   "metadata": {},
   "outputs": [],
   "source": []
  },
  {
   "cell_type": "code",
   "execution_count": 75,
   "metadata": {},
   "outputs": [],
   "source": [
    "players = [\"Michael Irvin\", \"Peyton Manning\", \"Jerry Rice\", \"Tom Brady\"]\n",
    "driver = webdriver.Chrome('./chromedriver')\n",
    "\n",
    "\n",
    "for p in players:\n",
    "    last_4 = p.split()[1][:4]\n",
    "    first_2 = p.split()[0][:2]\n",
    "    last_initial = p.split()[1][0]\n",
    "    \n",
    "    driver.execute_script(f\"window.open('https://www.pro-football-reference.com/players/{last_initial}/{last_4}{first_2}00.htm')\")\n",
    "    sleep(5)\n",
    "    \n",
    "driver.quit()"
   ]
  },
  {
   "cell_type": "code",
   "execution_count": 63,
   "metadata": {},
   "outputs": [
    {
     "data": {
      "text/plain": [
       "<selenium.webdriver.remote.switch_to.SwitchTo at 0x7f8b0edebf70>"
      ]
     },
     "execution_count": 63,
     "metadata": {},
     "output_type": "execute_result"
    }
   ],
   "source": [
    "driver.switch_to.window(driver.window_handles[-1])\n"
   ]
  },
  {
   "cell_type": "code",
   "execution_count": 53,
   "metadata": {
    "scrolled": true
   },
   "outputs": [
    {
     "data": {
      "text/plain": [
       "'I'"
      ]
     },
     "execution_count": 53,
     "metadata": {},
     "output_type": "execute_result"
    }
   ],
   "source": [
    "players = [\"Michael Irvin\", \"Peyton Manning\", \"Jerry Rice\", \"Tom Brady\"]\n",
    "players[0]"
   ]
  },
  {
   "cell_type": "code",
   "execution_count": 50,
   "metadata": {},
   "outputs": [
    {
     "data": {
      "text/plain": [
       "'Mi'"
      ]
     },
     "execution_count": 50,
     "metadata": {},
     "output_type": "execute_result"
    }
   ],
   "source": []
  }
 ],
 "metadata": {
  "kernelspec": {
   "display_name": "Python 3",
   "language": "python",
   "name": "python3"
  },
  "language_info": {
   "codemirror_mode": {
    "name": "ipython",
    "version": 3
   },
   "file_extension": ".py",
   "mimetype": "text/x-python",
   "name": "python",
   "nbconvert_exporter": "python",
   "pygments_lexer": "ipython3",
   "version": "3.8.5"
  }
 },
 "nbformat": 4,
 "nbformat_minor": 4
}
